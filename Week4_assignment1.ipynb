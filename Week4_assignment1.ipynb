{
 "cells": [
  {
   "cell_type": "markdown",
   "id": "0875a213-801c-4227-b8f0-7b3de361cc83",
   "metadata": {},
   "source": [
    "<h1>My Jupyter Notebook on IBM Watson Studio</h1>"
   ]
  },
  {
   "cell_type": "markdown",
   "id": "8a02c266-f215-4cd7-aa07-51d06bce6806",
   "metadata": {},
   "source": [
    "__Bhumit Devani__\n",
    "<br>\n",
    "My desired occupation is Data Scientist in field of Medical"
   ]
  },
  {
   "cell_type": "markdown",
   "id": "f10f71e4-d312-4008-bea6-347dd268f5f8",
   "metadata": {},
   "source": [
    "_I am interested in data science because it pays well_"
   ]
  },
  {
   "cell_type": "markdown",
   "id": "a63fec71-7c1d-4ae7-8dfc-3408cd72f1ea",
   "metadata": {},
   "source": [
    "<h3> this code is suppose to print table of given number</h3>"
   ]
  },
  {
   "cell_type": "code",
   "execution_count": 10,
   "id": "9b31239f-29fa-4ff9-9d77-6096d686690f",
   "metadata": {},
   "outputs": [
    {
     "name": "stdin",
     "output_type": "stream",
     "text": [
      "Enter your value:  32\n"
     ]
    },
    {
     "name": "stdout",
     "output_type": "stream",
     "text": [
      "32 x 1 = 32\n",
      "32 x 2 = 64\n",
      "32 x 3 = 96\n",
      "32 x 4 = 128\n",
      "32 x 5 = 160\n",
      "32 x 6 = 192\n",
      "32 x 7 = 224\n",
      "32 x 8 = 256\n",
      "32 x 9 = 288\n",
      "32 x 10 = 320\n"
     ]
    }
   ],
   "source": [
    "num = int(input(\"Enter your value: \"))\n",
    "for count in range(1, 11):\n",
    "   print (num, 'x', count, '=', num * count)  "
   ]
  },
  {
   "cell_type": "markdown",
   "id": "3d97c16c-c5f1-48f6-a1b5-88d33c705cb2",
   "metadata": {},
   "source": [
    "[This is an external link to Google](https://www.youtube.com/watch?v=eBGIQ7ZuuiU)\n",
    "\n",
    "\n",
    "<hr style=\"width:100%;text-align:left;margin-left:0\">\n",
    "\n",
    "> This is blocked quote\n",
    "\n"
   ]
  },
  {
   "cell_type": "code",
   "execution_count": null,
   "id": "8e1ce0d0-99d7-4b6c-b10d-6f5e591b62f6",
   "metadata": {},
   "outputs": [],
   "source": []
  }
 ],
 "metadata": {
  "kernelspec": {
   "display_name": "Python",
   "language": "python",
   "name": "conda-env-python-py"
  },
  "language_info": {
   "codemirror_mode": {
    "name": "ipython",
    "version": 3
   },
   "file_extension": ".py",
   "mimetype": "text/x-python",
   "name": "python",
   "nbconvert_exporter": "python",
   "pygments_lexer": "ipython3",
   "version": "3.7.12"
  }
 },
 "nbformat": 4,
 "nbformat_minor": 5
}
